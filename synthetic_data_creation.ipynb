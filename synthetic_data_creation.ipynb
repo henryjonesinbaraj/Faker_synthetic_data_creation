{
 "cells": [
  {
   "cell_type": "code",
   "execution_count": 88,
   "metadata": {},
   "outputs": [
    {
     "data": {
      "text/plain": [
       "'Ryan Gallagher'"
      ]
     },
     "execution_count": 88,
     "metadata": {},
     "output_type": "execute_result"
    }
   ],
   "source": [
    "from faker import Faker\n",
    "\n",
    "from datetime import datetime as dt\n",
    "import random as r\n",
    "seed = -1\n",
    "r.seed(seed)\n",
    "Faker.seed(seed)\n",
    "faked=Faker('en_CA')\n",
    "fake=Faker('en_US')\n",
    "fake.name()"
   ]
  },
  {
   "cell_type": "code",
   "execution_count": 92,
   "metadata": {},
   "outputs": [
    {
     "data": {
      "text/plain": [
       "'low'"
      ]
     },
     "execution_count": 92,
     "metadata": {},
     "output_type": "execute_result"
    }
   ],
   "source": [
    "schema=['name','company','address','phone_number','risk_level']\n",
    "risk_level=['high','medium','low']\n",
    "def get_risk(risk_level):\n",
    "    L= len(risk_level)\n",
    "    randy=(r.randint(0,100)*100)%L\n",
    "    return risk_level[randy]\n",
    "\n",
    "get_risk(risk_level)\n"
   ]
  },
  {
   "cell_type": "code",
   "execution_count": 110,
   "metadata": {},
   "outputs": [
    {
     "name": "stdout",
     "output_type": "stream",
     "text": [
      "['Jessica Hunt', 'Sean Gonzalez', 'Destiny Perez', 'Raymond Smith', 'Mr. Richard Miller', 'Michael Lewis', 'Matthew Guzman', 'Michael Houston', 'Tanya Robinson', 'Kristen Valenzuela']\n",
      "['Porter-Bailey', 'Jones-Flores', 'Mahoney, Santiago and Collins', 'Zamora-Berry', 'Morgan-Rosales', 'Brown-Barrett', 'Smith-White', 'Perez-Baker', 'Booth-Crane', 'Tapia-Phillips']\n",
      "['66934 Tate Stravenue\\nJohnstonview, TX 23094', '65893 Haas Drive Suite 303\\nLake Chadhaven, NY 62324', '297 Smith Plaza Suite 299\\nBrettstad, FM 46757', '75322 Arias Cape Suite 952\\nMendozashire, IN 80381', '367 Leslie Dam\\nWest David, AS 97695', '86778 Jackson Ridges Suite 934\\nLake Adam, MA 16106', '778 Cox Ford\\nNorth Jenniferville, ND 51299', '77890 Stacey Ramp Suite 764\\nKimberlyburgh, GU 78867', '018 Sean Island\\nRogersville, MS 07551', '7581 Richard Way Suite 978\\nWest Dustin, DC 80588']\n",
      "['337.211.6072', '(854)606-7744x965', '001-421-727-2718x18557', '+1-859-589-7576x83238', '930.590.5605', '(599)634-3566x206', '+1-599-331-9563x4160', '(162)182-5266x588', '332-282-2179x826', '(595)920-5233']\n"
     ]
    }
   ],
   "source": [
    "names=[]\n",
    "for item in range(10):\n",
    "    name=faked.name()\n",
    "    names.append(name)\n",
    "print(names)\n",
    "    \n",
    "companies=[]\n",
    "for item in range(10):\n",
    "    company=fake.company()\n",
    "    companies.append(company)\n",
    "print(companies)\n",
    "addresses=[]\n",
    "for item in range(10):\n",
    "    address=fake.address()\n",
    "    addresses.append(address)\n",
    "print(addresses)\n",
    "phonenumbers=[]\n",
    "for item in range(10):\n",
    "    phonenumber=fake.phone_number()\n",
    "    phonenumbers.append(phonenumber)\n",
    "print(phonenumbers)\n",
    "\n"
   ]
  },
  {
   "cell_type": "code",
   "execution_count": 119,
   "metadata": {},
   "outputs": [
    {
     "name": "stdout",
     "output_type": "stream",
     "text": [
      "{'Name': ['Jessica Hunt', 'Sean Gonzalez', 'Destiny Perez', 'Raymond Smith', 'Mr. Richard Miller', 'Michael Lewis', 'Matthew Guzman', 'Michael Houston', 'Tanya Robinson', 'Kristen Valenzuela'], 'company': ['Porter-Bailey', 'Jones-Flores', 'Mahoney, Santiago and Collins', 'Zamora-Berry', 'Morgan-Rosales', 'Brown-Barrett', 'Smith-White', 'Perez-Baker', 'Booth-Crane', 'Tapia-Phillips'], 'address': ['66934 Tate Stravenue\\nJohnstonview, TX 23094', '65893 Haas Drive Suite 303\\nLake Chadhaven, NY 62324', '297 Smith Plaza Suite 299\\nBrettstad, FM 46757', '75322 Arias Cape Suite 952\\nMendozashire, IN 80381', '367 Leslie Dam\\nWest David, AS 97695', '86778 Jackson Ridges Suite 934\\nLake Adam, MA 16106', '778 Cox Ford\\nNorth Jenniferville, ND 51299', '77890 Stacey Ramp Suite 764\\nKimberlyburgh, GU 78867', '018 Sean Island\\nRogersville, MS 07551', '7581 Richard Way Suite 978\\nWest Dustin, DC 80588'], 'phonenumber': ['337.211.6072', '(854)606-7744x965', '001-421-727-2718x18557', '+1-859-589-7576x83238', '930.590.5605', '(599)634-3566x206', '+1-599-331-9563x4160', '(162)182-5266x588', '332-282-2179x826', '(595)920-5233'], 'risk_level': ['medium', 'low', 'low', 'high', 'medium', 'medium', 'high', 'low', 'high', 'low']}\n"
     ]
    }
   ],
   "source": [
    "dicty={}\n",
    "dictionary =[\"Name\",\"company\",\"address\",\"phonenumber\",\"risk_level\"]\n",
    "for i in dictionary:\n",
    "    if i == \"Name\":\n",
    "        dicty[i]=names\n",
    "    elif i == \"company\":\n",
    "        dicty[i]=companies\n",
    "    elif i == \"address\":\n",
    "        dicty[i]=addresses\n",
    "    elif i == \"phonenumber\":\n",
    "        dicty[i] = phonenumbers\n",
    "    elif i== \"risk_level\":\n",
    "        j=0\n",
    "        levels=[]\n",
    "        for j in range(len(names)):\n",
    "            level=get_risk(risk_level)\n",
    "            levels.append(level)\n",
    "            dicty[i]=levels\n",
    "        j+=1\n",
    "        \n",
    "    \n",
    "print(dicty)"
   ]
  },
  {
   "cell_type": "code",
   "execution_count": 120,
   "metadata": {},
   "outputs": [
    {
     "data": {
      "text/html": [
       "<div>\n",
       "<style scoped>\n",
       "    .dataframe tbody tr th:only-of-type {\n",
       "        vertical-align: middle;\n",
       "    }\n",
       "\n",
       "    .dataframe tbody tr th {\n",
       "        vertical-align: top;\n",
       "    }\n",
       "\n",
       "    .dataframe thead th {\n",
       "        text-align: right;\n",
       "    }\n",
       "</style>\n",
       "<table border=\"1\" class=\"dataframe\">\n",
       "  <thead>\n",
       "    <tr style=\"text-align: right;\">\n",
       "      <th></th>\n",
       "      <th>Name</th>\n",
       "      <th>company</th>\n",
       "      <th>address</th>\n",
       "      <th>phonenumber</th>\n",
       "      <th>risk_level</th>\n",
       "    </tr>\n",
       "  </thead>\n",
       "  <tbody>\n",
       "    <tr>\n",
       "      <th>0</th>\n",
       "      <td>Jessica Hunt</td>\n",
       "      <td>Porter-Bailey</td>\n",
       "      <td>66934 Tate Stravenue\\nJohnstonview, TX 23094</td>\n",
       "      <td>337.211.6072</td>\n",
       "      <td>medium</td>\n",
       "    </tr>\n",
       "    <tr>\n",
       "      <th>1</th>\n",
       "      <td>Sean Gonzalez</td>\n",
       "      <td>Jones-Flores</td>\n",
       "      <td>65893 Haas Drive Suite 303\\nLake Chadhaven, NY...</td>\n",
       "      <td>(854)606-7744x965</td>\n",
       "      <td>low</td>\n",
       "    </tr>\n",
       "    <tr>\n",
       "      <th>2</th>\n",
       "      <td>Destiny Perez</td>\n",
       "      <td>Mahoney, Santiago and Collins</td>\n",
       "      <td>297 Smith Plaza Suite 299\\nBrettstad, FM 46757</td>\n",
       "      <td>001-421-727-2718x18557</td>\n",
       "      <td>low</td>\n",
       "    </tr>\n",
       "    <tr>\n",
       "      <th>3</th>\n",
       "      <td>Raymond Smith</td>\n",
       "      <td>Zamora-Berry</td>\n",
       "      <td>75322 Arias Cape Suite 952\\nMendozashire, IN 8...</td>\n",
       "      <td>+1-859-589-7576x83238</td>\n",
       "      <td>high</td>\n",
       "    </tr>\n",
       "    <tr>\n",
       "      <th>4</th>\n",
       "      <td>Mr. Richard Miller</td>\n",
       "      <td>Morgan-Rosales</td>\n",
       "      <td>367 Leslie Dam\\nWest David, AS 97695</td>\n",
       "      <td>930.590.5605</td>\n",
       "      <td>medium</td>\n",
       "    </tr>\n",
       "    <tr>\n",
       "      <th>5</th>\n",
       "      <td>Michael Lewis</td>\n",
       "      <td>Brown-Barrett</td>\n",
       "      <td>86778 Jackson Ridges Suite 934\\nLake Adam, MA ...</td>\n",
       "      <td>(599)634-3566x206</td>\n",
       "      <td>medium</td>\n",
       "    </tr>\n",
       "    <tr>\n",
       "      <th>6</th>\n",
       "      <td>Matthew Guzman</td>\n",
       "      <td>Smith-White</td>\n",
       "      <td>778 Cox Ford\\nNorth Jenniferville, ND 51299</td>\n",
       "      <td>+1-599-331-9563x4160</td>\n",
       "      <td>high</td>\n",
       "    </tr>\n",
       "    <tr>\n",
       "      <th>7</th>\n",
       "      <td>Michael Houston</td>\n",
       "      <td>Perez-Baker</td>\n",
       "      <td>77890 Stacey Ramp Suite 764\\nKimberlyburgh, GU...</td>\n",
       "      <td>(162)182-5266x588</td>\n",
       "      <td>low</td>\n",
       "    </tr>\n",
       "    <tr>\n",
       "      <th>8</th>\n",
       "      <td>Tanya Robinson</td>\n",
       "      <td>Booth-Crane</td>\n",
       "      <td>018 Sean Island\\nRogersville, MS 07551</td>\n",
       "      <td>332-282-2179x826</td>\n",
       "      <td>high</td>\n",
       "    </tr>\n",
       "    <tr>\n",
       "      <th>9</th>\n",
       "      <td>Kristen Valenzuela</td>\n",
       "      <td>Tapia-Phillips</td>\n",
       "      <td>7581 Richard Way Suite 978\\nWest Dustin, DC 80588</td>\n",
       "      <td>(595)920-5233</td>\n",
       "      <td>low</td>\n",
       "    </tr>\n",
       "  </tbody>\n",
       "</table>\n",
       "</div>"
      ],
      "text/plain": [
       "                 Name                        company  \\\n",
       "0        Jessica Hunt                  Porter-Bailey   \n",
       "1       Sean Gonzalez                   Jones-Flores   \n",
       "2       Destiny Perez  Mahoney, Santiago and Collins   \n",
       "3       Raymond Smith                   Zamora-Berry   \n",
       "4  Mr. Richard Miller                 Morgan-Rosales   \n",
       "5       Michael Lewis                  Brown-Barrett   \n",
       "6      Matthew Guzman                    Smith-White   \n",
       "7     Michael Houston                    Perez-Baker   \n",
       "8      Tanya Robinson                    Booth-Crane   \n",
       "9  Kristen Valenzuela                 Tapia-Phillips   \n",
       "\n",
       "                                             address             phonenumber  \\\n",
       "0       66934 Tate Stravenue\\nJohnstonview, TX 23094            337.211.6072   \n",
       "1  65893 Haas Drive Suite 303\\nLake Chadhaven, NY...       (854)606-7744x965   \n",
       "2     297 Smith Plaza Suite 299\\nBrettstad, FM 46757  001-421-727-2718x18557   \n",
       "3  75322 Arias Cape Suite 952\\nMendozashire, IN 8...   +1-859-589-7576x83238   \n",
       "4               367 Leslie Dam\\nWest David, AS 97695            930.590.5605   \n",
       "5  86778 Jackson Ridges Suite 934\\nLake Adam, MA ...       (599)634-3566x206   \n",
       "6        778 Cox Ford\\nNorth Jenniferville, ND 51299    +1-599-331-9563x4160   \n",
       "7  77890 Stacey Ramp Suite 764\\nKimberlyburgh, GU...       (162)182-5266x588   \n",
       "8             018 Sean Island\\nRogersville, MS 07551        332-282-2179x826   \n",
       "9  7581 Richard Way Suite 978\\nWest Dustin, DC 80588           (595)920-5233   \n",
       "\n",
       "  risk_level  \n",
       "0     medium  \n",
       "1        low  \n",
       "2        low  \n",
       "3       high  \n",
       "4     medium  \n",
       "5     medium  \n",
       "6       high  \n",
       "7        low  \n",
       "8       high  \n",
       "9        low  "
      ]
     },
     "metadata": {},
     "output_type": "display_data"
    }
   ],
   "source": [
    "import pandas as pd\n",
    "df = pd.DataFrame(dicty)\n",
    "display(df)"
   ]
  }
 ],
 "metadata": {
  "kernelspec": {
   "display_name": "Python 3",
   "language": "python",
   "name": "python3"
  },
  "language_info": {
   "codemirror_mode": {
    "name": "ipython",
    "version": 3
   },
   "file_extension": ".py",
   "mimetype": "text/x-python",
   "name": "python",
   "nbconvert_exporter": "python",
   "pygments_lexer": "ipython3",
   "version": "3.11.1"
  },
  "orig_nbformat": 4,
  "vscode": {
   "interpreter": {
    "hash": "aee8b7b246df8f9039afb4144a1f6fd8d2ca17a180786b69acc140d282b71a49"
   }
  }
 },
 "nbformat": 4,
 "nbformat_minor": 2
}
